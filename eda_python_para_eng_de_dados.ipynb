{
  "nbformat": 4,
  "nbformat_minor": 0,
  "metadata": {
    "colab": {
      "provenance": [],
      "authorship_tag": "ABX9TyOqjB2UYQN8wF7rt9jOzcbc",
      "include_colab_link": true
    },
    "kernelspec": {
      "name": "python3",
      "display_name": "Python 3"
    },
    "language_info": {
      "name": "python"
    }
  },
  "cells": [
    {
      "cell_type": "markdown",
      "metadata": {
        "id": "view-in-github",
        "colab_type": "text"
      },
      "source": [
        "<a href=\"https://colab.research.google.com/github/ClaudioRob/eda-python-para-engenheriadedados/blob/main/eda_python_para_eng_de_dados.ipynb\" target=\"_parent\"><img src=\"https://colab.research.google.com/assets/colab-badge.svg\" alt=\"Open In Colab\"/></a>"
      ]
    },
    {
      "cell_type": "code",
      "execution_count": null,
      "metadata": {
        "id": "kx8SXaTggrLU",
        "colab": {
          "base_uri": "https://localhost:8080/"
        },
        "outputId": "b7f1312a-f974-41ff-f55e-12910fde7c38"
      },
      "outputs": [
        {
          "output_type": "stream",
          "name": "stdout",
          "text": [
            "Python 3.10.12\n"
          ]
        }
      ],
      "source": [
        "!python --version"
      ]
    },
    {
      "cell_type": "markdown",
      "source": [
        "Exercícios - EstruturaSequencial\n",
        "\n",
        "Link: https://wiki.python.org.br/EstruturaSequencial"
      ],
      "metadata": {
        "id": "QMCowKow_fTH"
      }
    },
    {
      "cell_type": "markdown",
      "source": [
        "1. Faça um Programa que mostre a mensagem \"Alo mundo\" na tela."
      ],
      "metadata": {
        "id": "BCHljMAF-9ca"
      }
    },
    {
      "cell_type": "code",
      "source": [
        "print ('Hello World')"
      ],
      "metadata": {
        "colab": {
          "base_uri": "https://localhost:8080/"
        },
        "id": "XolSMcerg5kl",
        "outputId": "aa701ea3-af8a-4611-8f0b-54169a001f6f"
      },
      "execution_count": null,
      "outputs": [
        {
          "output_type": "stream",
          "name": "stdout",
          "text": [
            "Hello World\n"
          ]
        }
      ]
    },
    {
      "cell_type": "markdown",
      "source": [
        "2. Faça um Programa que peça um número e então mostre a mensagem O número informado foi [número]."
      ],
      "metadata": {
        "id": "3GRrySlm_8Mm"
      }
    },
    {
      "cell_type": "markdown",
      "source": [
        "Variáveis\n",
        "\n",
        "```python\n",
        "nome_variavel = valor_variavel\n",
        "print(f'mensagem {nome da variavel}')\n",
        "```\n",
        "* não pode ter espaço\n",
        "* não pode começar com número\n",
        "* case sensitive\n",
        "* não utilizar caracter especial, exeto 'underline'\n",
        "\n"
      ],
      "metadata": {
        "id": "w14C8ZV37JjV"
      }
    },
    {
      "cell_type": "code",
      "source": [
        "numero = input(\"Digite um número: \")\n",
        "print(f'O número informado foi {numero}')"
      ],
      "metadata": {
        "colab": {
          "base_uri": "https://localhost:8080/"
        },
        "id": "o4sDbBTC7JDQ",
        "outputId": "380f072a-eeed-4f02-83ba-11934962accc"
      },
      "execution_count": null,
      "outputs": [
        {
          "output_type": "stream",
          "name": "stdout",
          "text": [
            "Digite um número: 10\n",
            "O número informado foi 10\n"
          ]
        }
      ]
    },
    {
      "cell_type": "markdown",
      "source": [
        "3. Faça um Programa que peça dois números e imprima a soma."
      ],
      "metadata": {
        "id": "kz4wHTtNEq7L"
      }
    },
    {
      "cell_type": "code",
      "source": [
        "numero_1 = int(input(\"Primeiro número: \"))\n",
        "numero_2 = input(\"Segundo número: \")\n",
        "numero_2 = int(numero_2)\n",
        "print(numero_1 + numero_2)"
      ],
      "metadata": {
        "id": "lLu3vnM_hSx_",
        "colab": {
          "base_uri": "https://localhost:8080/"
        },
        "outputId": "7dfc6cfb-f8fb-44e9-bebd-09b7747a4af6"
      },
      "execution_count": null,
      "outputs": [
        {
          "output_type": "stream",
          "name": "stdout",
          "text": [
            "Primeiro número: 10\n",
            "Segundo número: 5\n",
            "15\n"
          ]
        }
      ]
    },
    {
      "cell_type": "markdown",
      "source": [
        "Tipos de dados\n",
        "* textos: str (string)\n",
        "* números: int (inteiros) e float (decimais)\n",
        "* booleanos: bool (verdadeiro ou falso) # True or False\n",
        "* Nulo: None\n",
        "\n",
        "```\n",
        "type(objeto) # tipo do dado\n",
        "```\n",
        "\n"
      ],
      "metadata": {
        "id": "KwRBy3B5Faun"
      }
    },
    {
      "cell_type": "markdown",
      "source": [
        "Operadores Matemáticos\n",
        "\n",
        "* soma: +\n",
        "* subtração: -\n",
        "* multiplicação: *\n",
        "* potência: **\n",
        "* divisão: /\n",
        "* divisão de inteiros: //\n",
        "* resto da divisão(módulo): %"
      ],
      "metadata": {
        "id": "4lwsm4QIHS3a"
      }
    },
    {
      "cell_type": "code",
      "source": [
        "type(5)"
      ],
      "metadata": {
        "colab": {
          "base_uri": "https://localhost:8080/"
        },
        "id": "1pJyDIwRh8w1",
        "outputId": "d0c6d4fa-7915-4d78-fa91-437f68ecaa73"
      },
      "execution_count": null,
      "outputs": [
        {
          "output_type": "execute_result",
          "data": {
            "text/plain": [
              "int"
            ]
          },
          "metadata": {},
          "execution_count": 24
        }
      ]
    },
    {
      "cell_type": "code",
      "source": [
        "# 10 + 5\n",
        "# 10 - 5\n",
        "# 10 * 5\n",
        "# 10 ** 5\n",
        "# 10 / 5\n",
        "# 11 // 5\n",
        "11%5"
      ],
      "metadata": {
        "colab": {
          "base_uri": "https://localhost:8080/"
        },
        "id": "um9y5qTniG4K",
        "outputId": "0b2e487f-f90d-4ae1-abc4-3f03b9c24816"
      },
      "execution_count": null,
      "outputs": [
        {
          "output_type": "execute_result",
          "data": {
            "text/plain": [
              "1"
            ]
          },
          "metadata": {},
          "execution_count": 30
        }
      ]
    },
    {
      "cell_type": "markdown",
      "source": [
        "Operadores relativos\n",
        "\n",
        "* igual: ==\n",
        "* diferente: !=\n",
        "* maior que: >\n",
        "* menor que: <\n",
        "* maior ou igual a: >=\n",
        "* menor ou igual a: <="
      ],
      "metadata": {
        "id": "DTwySqwWI3JZ"
      }
    },
    {
      "cell_type": "code",
      "source": [
        "# type(10 == 5)\n",
        "# 10 == 5\n",
        "# 10 == 10\n",
        "# 10 != 10\n",
        "# 10 > 5\n",
        "# 10 < 5\n",
        "# 10 >= 5\n",
        "10 <= 5"
      ],
      "metadata": {
        "id": "1k0871NbiO2Q",
        "colab": {
          "base_uri": "https://localhost:8080/"
        },
        "outputId": "cc0b0a3d-8bc1-4bf9-9ef2-b66a8fe5d5a6"
      },
      "execution_count": null,
      "outputs": [
        {
          "output_type": "execute_result",
          "data": {
            "text/plain": [
              "False"
            ]
          },
          "metadata": {},
          "execution_count": 33
        }
      ]
    },
    {
      "cell_type": "markdown",
      "source": [
        "Operadores lógicos\n",
        "\n",
        "* não: not\n",
        "* ou: or\n",
        "* e: and"
      ],
      "metadata": {
        "id": "YiQ4DLmFJ33C"
      }
    },
    {
      "cell_type": "code",
      "source": [
        "# not 10 > 5\n",
        "# 10 > 5 and 4 > 3\n",
        "10 > 5 or 4 > 3"
      ],
      "metadata": {
        "colab": {
          "base_uri": "https://localhost:8080/"
        },
        "id": "PXanqcEvjWc0",
        "outputId": "b832acf9-c421-4f5d-d27d-f55c8c78cc7c"
      },
      "execution_count": null,
      "outputs": [
        {
          "output_type": "execute_result",
          "data": {
            "text/plain": [
              "True"
            ]
          },
          "metadata": {},
          "execution_count": 36
        }
      ]
    },
    {
      "cell_type": "markdown",
      "source": [
        "Decisões"
      ],
      "metadata": {
        "id": "hfk7TA5VMI79"
      }
    },
    {
      "cell_type": "markdown",
      "source": [
        "1. Faça um Programa que peça dois números e imprima o maior deles"
      ],
      "metadata": {
        "id": "ffEpIWA-MdDj"
      }
    },
    {
      "cell_type": "code",
      "source": [
        "print('string')\n",
        "print(\"string\")\n",
        "print('''\n",
        "string com\n",
        "mais de uma\n",
        "linha\n",
        "'''\n",
        ")"
      ],
      "metadata": {
        "colab": {
          "base_uri": "https://localhost:8080/"
        },
        "id": "76CqZClOKG7T",
        "outputId": "403afa85-42cc-4d30-e471-9b0e06451252"
      },
      "execution_count": null,
      "outputs": [
        {
          "output_type": "stream",
          "name": "stdout",
          "text": [
            "string\n",
            "string\n",
            "\n",
            "string com \n",
            "mais de uma\n",
            "linha\n",
            "\n"
          ]
        }
      ]
    },
    {
      "cell_type": "code",
      "source": [
        "n1 = int(input(\"Primeiro número: \"))\n",
        "n2 = int(input(\"Segundo número: \"))\n",
        "\n",
        "if n1 > n2: #contexto\n",
        "  print(f'O maior número é {n1}')\n",
        "else: #senão\n",
        "  print(f'O maior número é {n2}')"
      ],
      "metadata": {
        "colab": {
          "base_uri": "https://localhost:8080/"
        },
        "id": "PHNJCRpvOokF",
        "outputId": "76c71517-119b-4cce-cf11-3cd5f5c15c40"
      },
      "execution_count": null,
      "outputs": [
        {
          "output_type": "stream",
          "name": "stdout",
          "text": [
            "Primeiro número: 10\n",
            "Segundo número: 5\n",
            "O maior número é 10\n"
          ]
        }
      ]
    },
    {
      "cell_type": "markdown",
      "source": [
        "4. Faça um Programa que verifique se uma letra digitada é vogal ou consoante."
      ],
      "metadata": {
        "id": "Z40KvQmDPRz5"
      }
    },
    {
      "cell_type": "code",
      "source": [
        "letra = input(\"Digite uma lertra: \")\n",
        "if letra == 'a' :\n",
        "  print('A letra é Vogal')\n",
        "elif letra == 'e':\n",
        "  print('A letra é Vogal')\n",
        "elif letra == 'i':\n",
        "  print('A letra é Vogal')\n",
        "elif letra == 'o':\n",
        "  print('A letra é Vogal')\n",
        "elif letra == 'u':\n",
        "  print('A letra é Vogal')\n",
        "else:\n",
        "  print('a letra é consoante')"
      ],
      "metadata": {
        "colab": {
          "base_uri": "https://localhost:8080/"
        },
        "id": "fJzB0uAiPXRK",
        "outputId": "409b1ae6-d92a-4dcc-9e4c-bcd62df68d26"
      },
      "execution_count": null,
      "outputs": [
        {
          "output_type": "stream",
          "name": "stdout",
          "text": [
            "Digite uma lertra: b\n",
            "a letra é consoante\n"
          ]
        }
      ]
    },
    {
      "cell_type": "markdown",
      "source": [
        "5. Faça um programa para a leitura de duas notas parciais de um aluno. O programa deve calcular a média alcançada por aluno e apresentar:\n",
        "\n",
        "* A mensagem \"Aprovado\", se a média alcançada for maior ou igual a sete;\n",
        "* A mensagem \"Reprovado\", se a média for menor do que sete;\n",
        "* A mensagem \"Aprovado com Distinção\", se a média for igual a dez."
      ],
      "metadata": {
        "id": "ppvPLU3xTV-e"
      }
    },
    {
      "cell_type": "code",
      "source": [
        "n1 = float(input(\"Nota 1: \"))\n",
        "n2 = float(input(\"Nota 2: \"))\n",
        "media = (n1 + n2)/2\n",
        "\n",
        "if media >= 7:\n",
        "  if media == 10:\n",
        "    print(\"Aprovado com Distinção\")\n",
        "  else:\n",
        "    print(\"Aprovado\")\n",
        "else:\n",
        "  print(\"Reprovado\")"
      ],
      "metadata": {
        "colab": {
          "base_uri": "https://localhost:8080/"
        },
        "id": "HvuR0jriThZM",
        "outputId": "a084280f-244d-4926-e97e-f88262e2f9a6"
      },
      "execution_count": null,
      "outputs": [
        {
          "output_type": "stream",
          "name": "stdout",
          "text": [
            "Nota 1: 6\n",
            "Nota 2: 6\n",
            "Reprovado\n"
          ]
        }
      ]
    },
    {
      "cell_type": "markdown",
      "source": [
        "11. As Organizações Tabajara resolveram dar um aumento de salário aos seus colaboradores e lhe contraram para desenvolver o programa que calculará os reajustes.\n",
        "\n",
        "Faça um programa que recebe o salário de um colaborador e o reajuste segundo o seguinte critério, baseado no salário atual:\n",
        "\n",
        "* salários até R$ 280,00 (incluindo): aumento de 20%\n",
        "\n",
        "* salários entre R$ 280,00 e R$ 700,00: aumento de 15%\n",
        "\n",
        "* salários entre R$ 700,00 e R$ 1.500,00: aumento de 10%\n",
        "\n",
        "* salários de R$ 1.500,00 em diante: aumento de 5%\n",
        "\n",
        "\n",
        "Após o aumento ser realizado, informe na tela:\n",
        "\n",
        "* o salário antes do reajuste;\n",
        "* o percentual de aumento aplicado;\n",
        "* o valor do aumento;\n",
        "* o novo salário, após o aumento."
      ],
      "metadata": {
        "id": "Vc4JvPLjXnxy"
      }
    },
    {
      "cell_type": "code",
      "source": [
        "salario = float(input(\"Digite o salário: \"))\n",
        "\n",
        "if salario <= 280:\n",
        "  percentual = 0.20\n",
        "  novo_salario = salario + salario * percentual\n",
        "elif salario <= 700:\n",
        "  percentual = 0.15\n",
        "  novo_salario = salario + salario * percentual\n",
        "elif salario <= 1500:\n",
        "  percentual = 0.10\n",
        "  novo_salario = salario + salario * percentual\n",
        "else:\n",
        "  percentual = 0.05\n",
        "  novo_salario = salario + salario * percentual\n",
        "\n",
        "print(f'Salário: {salario}')\n",
        "print(f'Percentual: {percentual}')\n",
        "print(f'Aumento: {salario * percentual}')\n",
        "print(f'Novo Salário: {novo_salario}')"
      ],
      "metadata": {
        "colab": {
          "base_uri": "https://localhost:8080/"
        },
        "id": "i6qO0iFrWJ9m",
        "outputId": "67abe0a8-9143-41c5-a0b7-1fa7252701eb"
      },
      "execution_count": null,
      "outputs": [
        {
          "output_type": "stream",
          "name": "stdout",
          "text": [
            "Digite o salário: 1500\n",
            "Salário: 1500.0\n",
            "Percentual: 0.1\n",
            "Aumento: 150.0\n",
            "Novo Slário: 1650.0\n"
          ]
        }
      ]
    },
    {
      "cell_type": "markdown",
      "source": [
        "Exercícios - Estrutura de Repetiçao\n",
        "\n",
        "Link: https://wiki.python.org.br/EstruturaDeRepeticao"
      ],
      "metadata": {
        "id": "C99jwGG-yFKD"
      }
    },
    {
      "cell_type": "markdown",
      "source": [
        "1. Faça um programa que peça uma nota, entre zero e dez. Mostre uma mensagem caso o valor seja inválido e continue pedindo até que o usuário informe um valor válido."
      ],
      "metadata": {
        "id": "b0LgPlDsy0Us"
      }
    },
    {
      "cell_type": "code",
      "source": [
        "# enquanto o usuário não informar um valor válido insira uma nota de 0 a 10\n",
        "\n",
        "nota = int(input('Nota entre 0 e 10: '))\n",
        "while not(nota >= 0 and nota <= 10):\n",
        "  print(\"Valor inválido\")\n",
        "  nota = int(input('Nota entre 0 e 10: '))\n",
        "else:\n",
        "  print(\"Valor válido\")"
      ],
      "metadata": {
        "id": "kYmHPqzTywBy",
        "outputId": "c8b3149d-2681-416e-b9e5-8d9ffb2f47c9",
        "colab": {
          "base_uri": "https://localhost:8080/"
        }
      },
      "execution_count": 3,
      "outputs": [
        {
          "output_type": "stream",
          "name": "stdout",
          "text": [
            "Nota entre 0 e 10: 11\n",
            "Valor inválido\n",
            "Nota entre 0 e 10: -2\n",
            "Valor inválido\n",
            "Nota entre 0 e 10: 1\n",
            "Valor válido\n"
          ]
        }
      ]
    },
    {
      "cell_type": "markdown",
      "source": [
        "6. Faça um programa que imprima na tela os números de 1 a 20, um abaixo do outro. Depois modifique o programa para que ele mostre os números um ao lado do outro."
      ],
      "metadata": {
        "id": "ypTo4L-_11v5"
      }
    },
    {
      "cell_type": "code",
      "source": [
        "# é possível usar o 'while' para esses casos\n",
        "passo = 1\n",
        "parada = 21\n",
        "while passo < parada:\n",
        "  print(passo)\n",
        "  passo = passo + 1"
      ],
      "metadata": {
        "id": "5RQYNDrx31x8",
        "outputId": "eaeab3ed-510c-479c-92e7-590b32086546",
        "colab": {
          "base_uri": "https://localhost:8080/"
        }
      },
      "execution_count": 5,
      "outputs": [
        {
          "output_type": "stream",
          "name": "stdout",
          "text": [
            "1\n",
            "2\n",
            "3\n",
            "4\n",
            "5\n",
            "6\n",
            "7\n",
            "8\n",
            "9\n",
            "10\n",
            "11\n",
            "12\n",
            "13\n",
            "14\n",
            "15\n",
            "16\n",
            "17\n",
            "18\n",
            "19\n",
            "20\n"
          ]
        }
      ]
    },
    {
      "cell_type": "code",
      "source": [
        "# quando houver um limite definido, usar o for\n",
        "for numero in range(1, 21):\n",
        "  print(numero)"
      ],
      "metadata": {
        "id": "cV4JS_ikzXVM",
        "outputId": "e8dccc79-4011-4943-85d3-278d17fd56db",
        "colab": {
          "base_uri": "https://localhost:8080/"
        }
      },
      "execution_count": 4,
      "outputs": [
        {
          "output_type": "stream",
          "name": "stdout",
          "text": [
            "1\n",
            "2\n",
            "3\n",
            "4\n",
            "5\n",
            "6\n",
            "7\n",
            "8\n",
            "9\n",
            "10\n",
            "11\n",
            "12\n",
            "13\n",
            "14\n",
            "15\n",
            "16\n",
            "17\n",
            "18\n",
            "19\n",
            "20\n"
          ]
        }
      ]
    },
    {
      "cell_type": "markdown",
      "source": [
        "10. Faça um programa que receba dois números inteiros e gere os números inteiros que estão no intervalo compreendido por eles."
      ],
      "metadata": {
        "id": "1HLAYnh14Rh2"
      }
    },
    {
      "cell_type": "code",
      "source": [],
      "metadata": {
        "id": "ut6m8h4Q4XY5"
      },
      "execution_count": null,
      "outputs": []
    }
  ]
}