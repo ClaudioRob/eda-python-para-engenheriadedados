{
  "nbformat": 4,
  "nbformat_minor": 0,
  "metadata": {
    "colab": {
      "provenance": [],
      "authorship_tag": "ABX9TyPPTVgFA2gqIyDrNHPdE1bg",
      "include_colab_link": true
    },
    "kernelspec": {
      "name": "python3",
      "display_name": "Python 3"
    },
    "language_info": {
      "name": "python"
    }
  },
  "cells": [
    {
      "cell_type": "markdown",
      "metadata": {
        "id": "view-in-github",
        "colab_type": "text"
      },
      "source": [
        "<a href=\"https://colab.research.google.com/github/ClaudioRob/eda-python-para-engenheriadedados/blob/main/eda_python_para_eng_de_dados.ipynb\" target=\"_parent\"><img src=\"https://colab.research.google.com/assets/colab-badge.svg\" alt=\"Open In Colab\"/></a>"
      ]
    },
    {
      "cell_type": "code",
      "execution_count": 16,
      "metadata": {
        "id": "kx8SXaTggrLU",
        "colab": {
          "base_uri": "https://localhost:8080/"
        },
        "outputId": "b7f1312a-f974-41ff-f55e-12910fde7c38"
      },
      "outputs": [
        {
          "output_type": "stream",
          "name": "stdout",
          "text": [
            "Python 3.10.12\n"
          ]
        }
      ],
      "source": [
        "!python --version"
      ]
    },
    {
      "cell_type": "markdown",
      "source": [
        "Exercícios - EstruturaSequencial\n",
        "\n",
        "Link: https://wiki.python.org.br/EstruturaSequencial"
      ],
      "metadata": {
        "id": "QMCowKow_fTH"
      }
    },
    {
      "cell_type": "markdown",
      "source": [
        "1. Faça um Programa que mostre a mensagem \"Alo mundo\" na tela."
      ],
      "metadata": {
        "id": "BCHljMAF-9ca"
      }
    },
    {
      "cell_type": "code",
      "source": [
        "print ('Hello World')"
      ],
      "metadata": {
        "colab": {
          "base_uri": "https://localhost:8080/"
        },
        "id": "XolSMcerg5kl",
        "outputId": "aa701ea3-af8a-4611-8f0b-54169a001f6f"
      },
      "execution_count": 17,
      "outputs": [
        {
          "output_type": "stream",
          "name": "stdout",
          "text": [
            "Hello World\n"
          ]
        }
      ]
    },
    {
      "cell_type": "markdown",
      "source": [
        "2. Faça um Programa que peça um número e então mostre a mensagem O número informado foi [número]."
      ],
      "metadata": {
        "id": "3GRrySlm_8Mm"
      }
    },
    {
      "cell_type": "markdown",
      "source": [
        "Variáveis\n",
        "\n",
        "```python\n",
        "nome_variavel = valor_variavel\n",
        "print(f'mensagem {nome da variavel}')\n",
        "```\n",
        "* não pode ter espaço\n",
        "* não pode começar com número\n",
        "* case sensitive\n",
        "* não utilizar caracter especial, exeto 'underline'\n",
        "\n"
      ],
      "metadata": {
        "id": "w14C8ZV37JjV"
      }
    },
    {
      "cell_type": "code",
      "source": [
        "numero = input(\"Digite um número: \")\n",
        "print(f'O número informado foi {numero}')"
      ],
      "metadata": {
        "colab": {
          "base_uri": "https://localhost:8080/"
        },
        "id": "o4sDbBTC7JDQ",
        "outputId": "380f072a-eeed-4f02-83ba-11934962accc"
      },
      "execution_count": 21,
      "outputs": [
        {
          "output_type": "stream",
          "name": "stdout",
          "text": [
            "Digite um número: 10\n",
            "O número informado foi 10\n"
          ]
        }
      ]
    },
    {
      "cell_type": "code",
      "source": [],
      "metadata": {
        "id": "lLu3vnM_hSx_"
      },
      "execution_count": null,
      "outputs": []
    },
    {
      "cell_type": "code",
      "source": [],
      "metadata": {
        "id": "1pJyDIwRh8w1"
      },
      "execution_count": null,
      "outputs": []
    },
    {
      "cell_type": "code",
      "source": [],
      "metadata": {
        "id": "um9y5qTniG4K"
      },
      "execution_count": null,
      "outputs": []
    },
    {
      "cell_type": "code",
      "source": [],
      "metadata": {
        "id": "1k0871NbiO2Q"
      },
      "execution_count": null,
      "outputs": []
    },
    {
      "cell_type": "code",
      "source": [],
      "metadata": {
        "id": "PXanqcEvjWc0"
      },
      "execution_count": null,
      "outputs": []
    }
  ]
}